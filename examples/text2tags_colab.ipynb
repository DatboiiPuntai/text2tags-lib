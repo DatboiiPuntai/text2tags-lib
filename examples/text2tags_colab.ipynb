{
  "cells": [
    {
      "cell_type": "code",
      "execution_count": null,
      "metadata": {
        "id": "JzxCoOKLLzeu"
      },
      "outputs": [],
      "source": [
        "!pip install text2tags-lib\n",
        "!pip install gradio"
      ]
    },
    {
      "attachments": {},
      "cell_type": "markdown",
      "metadata": {
        "id": "4dSZ91mSGJ_K"
      },
      "source": [
        "##Run UI"
      ]
    },
    {
      "cell_type": "code",
      "execution_count": null,
      "metadata": {
        "colab": {
          "base_uri": "https://localhost:8080/"
        },
        "id": "GEbGfAEeHeOq",
        "outputId": "a2924f07-7ec5-4695-aa55-142c7856dfa8"
      },
      "outputs": [],
      "source": [
        "import gradio as gr\n",
        "from text2tags import TaggerLlama\n",
        "\n",
        "model = TaggerLlama()\n",
        "\n",
        "\n",
        "def predict(caption, max_tokens=128, temperature=0.8, top_k=40, top_p=0.95, repeat_penalty=1.1):\n",
        "    tags = model.predict_tags(caption, max_tokens=max_tokens, temperature=temperature,\n",
        "                              top_k=top_k, top_p=top_p, repeat_penalty=repeat_penalty)\n",
        "    return ', '.join(tags)\n",
        "\n",
        "description = \"\"\"\n",
        "### Enter a caption to extract danbooru tags from it.\n",
        "[ ![GitHub](https://img.shields.io/badge/github-%23121011.svg?style=for-the-badge&logo=github&logoColor=white) ](https://github.com/DatboiiPuntai/text2tags-lib)\n",
        "\"\"\"\n",
        "\n",
        "demo = gr.Interface(\n",
        "    fn=predict,\n",
        "    inputs=[\n",
        "        gr.Textbox(label=\"Caption\"),\n",
        "        gr.Slider(0, 256, step=16, value=128, label='max_tokens'),\n",
        "        gr.Slider(0, 2, step=0.1, value=0.8, label='temperature'),\n",
        "        gr.Slider(0, 100, step=5, value=40, label='top_k'),\n",
        "        gr.Slider(0, 2, step=0.05, value=0.95, label='top_p'),\n",
        "        gr.Slider(0, 5, step=0.1, value=1.1, label='repeat_penalty'),\n",
        "    ],\n",
        "    outputs=\"text\",\n",
        "    title=\"Text2Tags\",\n",
        "    description=description,\n",
        "    examples=[\n",
        "        [\"Minato Aqua from hololive with pink and blue twintails in a blue maid outfit\"],\n",
        "    ],\n",
        "    allow_flagging=\"never\"\n",
        ")\n",
        "\n",
        "demo.launch()\n"
      ]
    }
  ],
  "metadata": {
    "colab": {
      "provenance": []
    },
    "kernelspec": {
      "display_name": "Python 3",
      "name": "python3"
    },
    "language_info": {
      "codemirror_mode": {
        "name": "ipython",
        "version": 3
      },
      "file_extension": ".py",
      "mimetype": "text/x-python",
      "name": "python",
      "nbconvert_exporter": "python",
      "pygments_lexer": "ipython3",
      "version": "3.10.9"
    }
  },
  "nbformat": 4,
  "nbformat_minor": 0
}
