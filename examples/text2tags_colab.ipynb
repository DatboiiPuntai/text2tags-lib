{
  "cells": [
    {
      "cell_type": "code",
      "execution_count": 1,
      "metadata": {
        "id": "JzxCoOKLLzeu"
      },
      "outputs": [
        {
          "name": "stdout",
          "output_type": "stream",
          "text": [
            "Collecting text2tags-lib\n",
            "  Downloading text2tags-lib-0.0.4.tar.gz (74 kB)\n",
            "     ---------------------------------------- 74.5/74.5 kB 4.0 MB/s eta 0:00:00\n",
            "  Preparing metadata (setup.py): started\n",
            "  Preparing metadata (setup.py): finished with status 'done'\n",
            "Requirement already satisfied: editdistance in c:\\users\\panta\\anaconda3\\envs\\nlp\\lib\\site-packages (from text2tags-lib) (0.6.2)\n",
            "Requirement already satisfied: llama-cpp-python in c:\\users\\panta\\anaconda3\\envs\\nlp\\lib\\site-packages (from text2tags-lib) (0.1.50)\n",
            "Collecting wget\n",
            "  Using cached wget-3.2-py3-none-any.whl\n",
            "Requirement already satisfied: typing-extensions>=4.5.0 in c:\\users\\panta\\anaconda3\\envs\\nlp\\lib\\site-packages (from llama-cpp-python->text2tags-lib) (4.5.0)\n",
            "Building wheels for collected packages: text2tags-lib\n",
            "  Building wheel for text2tags-lib (setup.py): started\n",
            "  Building wheel for text2tags-lib (setup.py): finished with status 'done'\n",
            "  Created wheel for text2tags-lib: filename=text2tags_lib-0.0.4-py3-none-any.whl size=73956 sha256=e478dda44f264a56c5ba0e31d605ae118b0346cb27446deeee74271fe94d110e\n",
            "  Stored in directory: c:\\users\\panta\\appdata\\local\\pip\\cache\\wheels\\fc\\a1\\12\\21a08a018cfc7b9336c89e871e6ac3ef91e6f6ebbe4188c471\n",
            "Successfully built text2tags-lib\n",
            "Installing collected packages: wget, text2tags-lib\n",
            "Successfully installed text2tags-lib-0.0.4 wget-3.2\n"
          ]
        },
        {
          "name": "stderr",
          "output_type": "stream",
          "text": [
            "WARNING: Ignoring invalid distribution -lama-cpp-python (c:\\users\\panta\\anaconda3\\envs\\nlp\\lib\\site-packages)\n",
            "WARNING: Ignoring invalid distribution -lama-cpp-python (c:\\users\\panta\\anaconda3\\envs\\nlp\\lib\\site-packages)\n",
            "WARNING: Ignoring invalid distribution -lama-cpp-python (c:\\users\\panta\\anaconda3\\envs\\nlp\\lib\\site-packages)\n",
            "WARNING: Ignoring invalid distribution -lama-cpp-python (c:\\users\\panta\\anaconda3\\envs\\nlp\\lib\\site-packages)\n",
            "WARNING: Ignoring invalid distribution -lama-cpp-python (c:\\users\\panta\\anaconda3\\envs\\nlp\\lib\\site-packages)\n",
            "WARNING: Ignoring invalid distribution -lama-cpp-python (c:\\users\\panta\\anaconda3\\envs\\nlp\\lib\\site-packages)\n",
            "WARNING: Ignoring invalid distribution -lama-cpp-python (c:\\users\\panta\\anaconda3\\envs\\nlp\\lib\\site-packages)\n",
            "WARNING: Ignoring invalid distribution -lama-cpp-python (c:\\users\\panta\\anaconda3\\envs\\nlp\\lib\\site-packages)\n"
          ]
        },
        {
          "name": "stdout",
          "output_type": "stream",
          "text": [
            "Collecting gradio\n",
            "  Using cached gradio-3.32.0-py3-none-any.whl (19.9 MB)\n",
            "Requirement already satisfied: pygments>=2.12.0 in c:\\users\\panta\\anaconda3\\envs\\nlp\\lib\\site-packages (from gradio) (2.15.1)\n",
            "Collecting mdit-py-plugins<=0.3.3\n",
            "  Using cached mdit_py_plugins-0.3.3-py3-none-any.whl (50 kB)\n",
            "Collecting websockets>=10.0\n",
            "  Using cached websockets-11.0.3-cp310-cp310-win_amd64.whl (124 kB)\n",
            "Collecting httpx\n",
            "  Using cached httpx-0.24.1-py3-none-any.whl (75 kB)\n",
            "Collecting ffmpy\n",
            "  Using cached ffmpy-0.3.0-py3-none-any.whl\n",
            "Requirement already satisfied: jinja2 in c:\\users\\panta\\anaconda3\\envs\\nlp\\lib\\site-packages (from gradio) (3.1.2)\n",
            "Requirement already satisfied: pydantic in c:\\users\\panta\\anaconda3\\envs\\nlp\\lib\\site-packages (from gradio) (1.10.7)\n",
            "Requirement already satisfied: pillow in c:\\users\\panta\\anaconda3\\envs\\nlp\\lib\\site-packages (from gradio) (9.5.0)\n",
            "Collecting pydub\n",
            "  Using cached pydub-0.25.1-py2.py3-none-any.whl (32 kB)\n",
            "Requirement already satisfied: huggingface-hub>=0.13.0 in c:\\users\\panta\\anaconda3\\envs\\nlp\\lib\\site-packages (from gradio) (0.13.4)\n",
            "Collecting gradio-client>=0.2.4\n",
            "  Using cached gradio_client-0.2.5-py3-none-any.whl (288 kB)\n",
            "Collecting aiofiles\n",
            "  Using cached aiofiles-23.1.0-py3-none-any.whl (14 kB)\n",
            "Requirement already satisfied: matplotlib in c:\\users\\panta\\appdata\\roaming\\python\\python310\\site-packages (from gradio) (3.6.3)\n",
            "Collecting fastapi\n",
            "  Using cached fastapi-0.95.2-py3-none-any.whl (56 kB)\n",
            "Collecting altair>=4.2.0\n",
            "  Using cached altair-5.0.0-py3-none-any.whl (477 kB)\n",
            "Requirement already satisfied: pyyaml in c:\\users\\panta\\anaconda3\\envs\\nlp\\lib\\site-packages (from gradio) (6.0)\n",
            "Requirement already satisfied: pandas in c:\\users\\panta\\anaconda3\\envs\\nlp\\lib\\site-packages (from gradio) (2.0.0)\n",
            "Requirement already satisfied: numpy in c:\\users\\panta\\anaconda3\\envs\\nlp\\lib\\site-packages (from gradio) (1.24.3)\n",
            "Requirement already satisfied: aiohttp in c:\\users\\panta\\anaconda3\\envs\\nlp\\lib\\site-packages (from gradio) (3.8.4)\n",
            "Requirement already satisfied: requests in c:\\users\\panta\\anaconda3\\envs\\nlp\\lib\\site-packages (from gradio) (2.28.2)\n",
            "Collecting uvicorn>=0.14.0\n",
            "  Using cached uvicorn-0.22.0-py3-none-any.whl (58 kB)\n",
            "Collecting orjson\n",
            "  Downloading orjson-3.8.14-cp310-none-win_amd64.whl (190 kB)\n",
            "     ---------------------------------------- 190.2/190.2 kB ? eta 0:00:00\n",
            "Collecting python-multipart\n",
            "  Using cached python_multipart-0.0.6-py3-none-any.whl (45 kB)\n",
            "Collecting markdown-it-py[linkify]>=2.0.0\n",
            "  Using cached markdown_it_py-2.2.0-py3-none-any.whl (84 kB)\n",
            "Requirement already satisfied: markupsafe in c:\\users\\panta\\anaconda3\\envs\\nlp\\lib\\site-packages (from gradio) (2.1.2)\n",
            "Requirement already satisfied: typing-extensions in c:\\users\\panta\\anaconda3\\envs\\nlp\\lib\\site-packages (from gradio) (4.5.0)\n",
            "Collecting semantic-version\n",
            "  Using cached semantic_version-2.10.0-py2.py3-none-any.whl (15 kB)\n",
            "Requirement already satisfied: jsonschema>=3.0 in c:\\users\\panta\\anaconda3\\envs\\nlp\\lib\\site-packages (from altair>=4.2.0->gradio) (4.17.3)\n",
            "Collecting toolz\n",
            "  Using cached toolz-0.12.0-py3-none-any.whl (55 kB)\n",
            "Requirement already satisfied: packaging in c:\\users\\panta\\anaconda3\\envs\\nlp\\lib\\site-packages (from gradio-client>=0.2.4->gradio) (23.1)\n",
            "Requirement already satisfied: fsspec in c:\\users\\panta\\anaconda3\\envs\\nlp\\lib\\site-packages (from gradio-client>=0.2.4->gradio) (2023.4.0)\n",
            "Requirement already satisfied: tqdm>=4.42.1 in c:\\users\\panta\\anaconda3\\envs\\nlp\\lib\\site-packages (from huggingface-hub>=0.13.0->gradio) (4.65.0)\n",
            "Requirement already satisfied: filelock in c:\\users\\panta\\anaconda3\\envs\\nlp\\lib\\site-packages (from huggingface-hub>=0.13.0->gradio) (3.12.0)\n",
            "Collecting mdurl~=0.1\n",
            "  Using cached mdurl-0.1.2-py3-none-any.whl (10.0 kB)\n",
            "Collecting linkify-it-py<3,>=1\n",
            "  Using cached linkify_it_py-2.0.2-py3-none-any.whl (19 kB)\n",
            "Requirement already satisfied: python-dateutil>=2.8.2 in c:\\users\\panta\\anaconda3\\envs\\nlp\\lib\\site-packages (from pandas->gradio) (2.8.2)\n",
            "Requirement already satisfied: pytz>=2020.1 in c:\\users\\panta\\anaconda3\\envs\\nlp\\lib\\site-packages (from pandas->gradio) (2023.3)\n",
            "Requirement already satisfied: tzdata>=2022.1 in c:\\users\\panta\\anaconda3\\envs\\nlp\\lib\\site-packages (from pandas->gradio) (2023.3)\n",
            "Requirement already satisfied: click>=7.0 in c:\\users\\panta\\anaconda3\\envs\\nlp\\lib\\site-packages (from uvicorn>=0.14.0->gradio) (8.1.3)\n",
            "Collecting h11>=0.8\n",
            "  Using cached h11-0.14.0-py3-none-any.whl (58 kB)\n",
            "Requirement already satisfied: multidict<7.0,>=4.5 in c:\\users\\panta\\anaconda3\\envs\\nlp\\lib\\site-packages (from aiohttp->gradio) (6.0.4)\n",
            "Requirement already satisfied: frozenlist>=1.1.1 in c:\\users\\panta\\anaconda3\\envs\\nlp\\lib\\site-packages (from aiohttp->gradio) (1.3.3)\n",
            "Requirement already satisfied: async-timeout<5.0,>=4.0.0a3 in c:\\users\\panta\\anaconda3\\envs\\nlp\\lib\\site-packages (from aiohttp->gradio) (4.0.2)\n",
            "Requirement already satisfied: charset-normalizer<4.0,>=2.0 in c:\\users\\panta\\appdata\\roaming\\python\\python310\\site-packages (from aiohttp->gradio) (3.1.0)\n",
            "Requirement already satisfied: aiosignal>=1.1.2 in c:\\users\\panta\\anaconda3\\envs\\nlp\\lib\\site-packages (from aiohttp->gradio) (1.3.1)\n",
            "Requirement already satisfied: yarl<2.0,>=1.0 in c:\\users\\panta\\anaconda3\\envs\\nlp\\lib\\site-packages (from aiohttp->gradio) (1.9.1)\n",
            "Requirement already satisfied: attrs>=17.3.0 in c:\\users\\panta\\anaconda3\\envs\\nlp\\lib\\site-packages (from aiohttp->gradio) (23.1.0)\n",
            "Collecting starlette<0.28.0,>=0.27.0\n",
            "  Using cached starlette-0.27.0-py3-none-any.whl (66 kB)\n",
            "Requirement already satisfied: sniffio in c:\\users\\panta\\anaconda3\\envs\\nlp\\lib\\site-packages (from httpx->gradio) (1.3.0)\n",
            "Requirement already satisfied: idna in c:\\users\\panta\\anaconda3\\envs\\nlp\\lib\\site-packages (from httpx->gradio) (3.4)\n",
            "Requirement already satisfied: certifi in c:\\users\\panta\\anaconda3\\envs\\nlp\\lib\\site-packages (from httpx->gradio) (2022.12.7)\n",
            "Collecting httpcore<0.18.0,>=0.15.0\n",
            "  Downloading httpcore-0.17.2-py3-none-any.whl (72 kB)\n",
            "     ---------------------------------------- 72.5/72.5 kB ? eta 0:00:00\n",
            "Requirement already satisfied: fonttools>=4.22.0 in c:\\users\\panta\\anaconda3\\envs\\nlp\\lib\\site-packages (from matplotlib->gradio) (4.39.3)\n",
            "Requirement already satisfied: contourpy>=1.0.1 in c:\\users\\panta\\anaconda3\\envs\\nlp\\lib\\site-packages (from matplotlib->gradio) (1.0.7)\n",
            "Requirement already satisfied: pyparsing>=2.2.1 in c:\\users\\panta\\anaconda3\\envs\\nlp\\lib\\site-packages (from matplotlib->gradio) (3.0.9)\n",
            "Requirement already satisfied: cycler>=0.10 in c:\\users\\panta\\anaconda3\\envs\\nlp\\lib\\site-packages (from matplotlib->gradio) (0.11.0)\n",
            "Requirement already satisfied: kiwisolver>=1.0.1 in c:\\users\\panta\\anaconda3\\envs\\nlp\\lib\\site-packages (from matplotlib->gradio) (1.4.4)\n",
            "Requirement already satisfied: urllib3<1.27,>=1.21.1 in c:\\users\\panta\\anaconda3\\envs\\nlp\\lib\\site-packages (from requests->gradio) (1.26.15)\n",
            "Requirement already satisfied: colorama in c:\\users\\panta\\anaconda3\\envs\\nlp\\lib\\site-packages (from click>=7.0->uvicorn>=0.14.0->gradio) (0.4.6)\n",
            "Requirement already satisfied: anyio<5.0,>=3.0 in c:\\users\\panta\\anaconda3\\envs\\nlp\\lib\\site-packages (from httpcore<0.18.0,>=0.15.0->httpx->gradio) (3.6.2)\n",
            "Requirement already satisfied: pyrsistent!=0.17.0,!=0.17.1,!=0.17.2,>=0.14.0 in c:\\users\\panta\\anaconda3\\envs\\nlp\\lib\\site-packages (from jsonschema>=3.0->altair>=4.2.0->gradio) (0.19.3)\n",
            "Collecting uc-micro-py\n",
            "  Using cached uc_micro_py-1.0.2-py3-none-any.whl (6.2 kB)\n",
            "Requirement already satisfied: six>=1.5 in c:\\users\\panta\\anaconda3\\envs\\nlp\\lib\\site-packages (from python-dateutil>=2.8.2->pandas->gradio) (1.16.0)\n",
            "Installing collected packages: pydub, ffmpy, websockets, uc-micro-py, toolz, semantic-version, python-multipart, orjson, mdurl, h11, aiofiles, uvicorn, starlette, markdown-it-py, linkify-it-py, httpcore, mdit-py-plugins, httpx, fastapi, altair, gradio-client, gradio\n",
            "Successfully installed aiofiles-23.1.0 altair-5.0.0 fastapi-0.95.2 ffmpy-0.3.0 gradio-3.32.0 gradio-client-0.2.5 h11-0.14.0 httpcore-0.17.2 httpx-0.24.1 linkify-it-py-2.0.2 markdown-it-py-2.2.0 mdit-py-plugins-0.3.3 mdurl-0.1.2 orjson-3.8.14 pydub-0.25.1 python-multipart-0.0.6 semantic-version-2.10.0 starlette-0.27.0 toolz-0.12.0 uc-micro-py-1.0.2 uvicorn-0.22.0 websockets-11.0.3\n"
          ]
        },
        {
          "name": "stderr",
          "output_type": "stream",
          "text": [
            "WARNING: Ignoring invalid distribution -lama-cpp-python (c:\\users\\panta\\anaconda3\\envs\\nlp\\lib\\site-packages)\n",
            "WARNING: Ignoring invalid distribution -lama-cpp-python (c:\\users\\panta\\anaconda3\\envs\\nlp\\lib\\site-packages)\n",
            "WARNING: Ignoring invalid distribution -lama-cpp-python (c:\\users\\panta\\anaconda3\\envs\\nlp\\lib\\site-packages)\n",
            "WARNING: Ignoring invalid distribution -lama-cpp-python (c:\\users\\panta\\anaconda3\\envs\\nlp\\lib\\site-packages)\n",
            "WARNING: Ignoring invalid distribution -lama-cpp-python (c:\\users\\panta\\anaconda3\\envs\\nlp\\lib\\site-packages)\n",
            "WARNING: Ignoring invalid distribution -lama-cpp-python (c:\\users\\panta\\anaconda3\\envs\\nlp\\lib\\site-packages)\n",
            "WARNING: Ignoring invalid distribution -lama-cpp-python (c:\\users\\panta\\anaconda3\\envs\\nlp\\lib\\site-packages)\n",
            "WARNING: Ignoring invalid distribution -lama-cpp-python (c:\\users\\panta\\anaconda3\\envs\\nlp\\lib\\site-packages)\n",
            "WARNING: Ignoring invalid distribution -lama-cpp-python (c:\\users\\panta\\anaconda3\\envs\\nlp\\lib\\site-packages)\n",
            "WARNING: Ignoring invalid distribution -lama-cpp-python (c:\\users\\panta\\anaconda3\\envs\\nlp\\lib\\site-packages)\n",
            "WARNING: Ignoring invalid distribution -lama-cpp-python (c:\\users\\panta\\anaconda3\\envs\\nlp\\lib\\site-packages)\n",
            "WARNING: Ignoring invalid distribution -lama-cpp-python (c:\\users\\panta\\anaconda3\\envs\\nlp\\lib\\site-packages)\n",
            "WARNING: Ignoring invalid distribution -lama-cpp-python (c:\\users\\panta\\anaconda3\\envs\\nlp\\lib\\site-packages)\n",
            "WARNING: Ignoring invalid distribution -lama-cpp-python (c:\\users\\panta\\anaconda3\\envs\\nlp\\lib\\site-packages)\n",
            "WARNING: Ignoring invalid distribution -lama-cpp-python (c:\\users\\panta\\anaconda3\\envs\\nlp\\lib\\site-packages)\n",
            "WARNING: Ignoring invalid distribution -lama-cpp-python (c:\\users\\panta\\anaconda3\\envs\\nlp\\lib\\site-packages)\n",
            "WARNING: Ignoring invalid distribution -lama-cpp-python (c:\\users\\panta\\anaconda3\\envs\\nlp\\lib\\site-packages)\n",
            "WARNING: Ignoring invalid distribution -lama-cpp-python (c:\\users\\panta\\anaconda3\\envs\\nlp\\lib\\site-packages)\n",
            "WARNING: Ignoring invalid distribution -lama-cpp-python (c:\\users\\panta\\anaconda3\\envs\\nlp\\lib\\site-packages)\n",
            "WARNING: Ignoring invalid distribution -lama-cpp-python (c:\\users\\panta\\anaconda3\\envs\\nlp\\lib\\site-packages)\n",
            "WARNING: Ignoring invalid distribution -lama-cpp-python (c:\\users\\panta\\anaconda3\\envs\\nlp\\lib\\site-packages)\n",
            "WARNING: Ignoring invalid distribution -lama-cpp-python (c:\\users\\panta\\anaconda3\\envs\\nlp\\lib\\site-packages)\n",
            "WARNING: Ignoring invalid distribution -lama-cpp-python (c:\\users\\panta\\anaconda3\\envs\\nlp\\lib\\site-packages)\n",
            "WARNING: Ignoring invalid distribution -lama-cpp-python (c:\\users\\panta\\anaconda3\\envs\\nlp\\lib\\site-packages)\n",
            "WARNING: Ignoring invalid distribution -lama-cpp-python (c:\\users\\panta\\anaconda3\\envs\\nlp\\lib\\site-packages)\n",
            "WARNING: Ignoring invalid distribution -lama-cpp-python (c:\\users\\panta\\anaconda3\\envs\\nlp\\lib\\site-packages)\n",
            "WARNING: Ignoring invalid distribution -lama-cpp-python (c:\\users\\panta\\anaconda3\\envs\\nlp\\lib\\site-packages)\n",
            "WARNING: Ignoring invalid distribution -lama-cpp-python (c:\\users\\panta\\anaconda3\\envs\\nlp\\lib\\site-packages)\n"
          ]
        }
      ],
      "source": [
        "!pip install text2tags-lib\n",
        "!pip install gradio"
      ]
    },
    {
      "attachments": {},
      "cell_type": "markdown",
      "metadata": {
        "id": "4dSZ91mSGJ_K"
      },
      "source": [
        "##Run UI"
      ]
    },
    {
      "cell_type": "code",
      "execution_count": 4,
      "metadata": {},
      "outputs": [],
      "source": [
        "!python app.py"
      ]
    },
    {
      "cell_type": "code",
      "execution_count": 3,
      "metadata": {
        "colab": {
          "base_uri": "https://localhost:8080/"
        },
        "id": "GEbGfAEeHeOq",
        "outputId": "a2924f07-7ec5-4695-aa55-142c7856dfa8"
      },
      "outputs": [
        {
          "name": "stdout",
          "output_type": "stream",
          "text": [
            "Downloading Model\n",
            "Model Downloaded\n"
          ]
        },
        {
          "name": "stderr",
          "output_type": "stream",
          "text": [
            "AVX = 1 | AVX2 = 1 | AVX512 = 0 | AVX512_VBMI = 0 | AVX512_VNNI = 0 | FMA = 1 | NEON = 0 | ARM_FMA = 0 | F16C = 1 | FP16_VA = 0 | WASM_SIMD = 0 | BLAS = 0 | SSE3 = 1 | VSX = 0 | \n"
          ]
        }
      ],
      "source": [
        "import gradio as gr\n",
        "from text2tags import TaggerLlama\n",
        "\n",
        "model = TaggerLlama()\n",
        "\n",
        "\n",
        "def predict(caption, max_tokens, temperature, top_k, top_p, repeat_penalty):\n",
        "    tags = model.predict_tags(caption, max_tokens=max_tokens, temperature=temperature,\n",
        "                              top_k=top_k, top_p=top_p, repeat_penalty=repeat_penalty)\n",
        "    return ', '.join(tags)\n",
        "\n",
        "\n",
        "demo = gr.Interface(\n",
        "    fn=predict,\n",
        "    inputs=[\n",
        "        gr.Textbox(label=\"Caption\"),\n",
        "        gr.Slider(0, 256, step=16, value=128, label='max_tokens'),\n",
        "        gr.Slider(0, 2, step=0.1, value=0.8, label='temperature'),\n",
        "        gr.Slider(0, 100, step=5, value=40, label='top_k'),\n",
        "        gr.Slider(0, 2, step=0.05, value=0.95, label='top_p'),\n",
        "        gr.Slider(0, 5, step=0.1, value=1.1, label='repeat_penalty'),\n",
        "    ],\n",
        "    outputs=\"text\",\n",
        "    title=\"Text2Tags\",\n",
        "    description=\"### Enter a caption to extract danbooru tags from it.\",\n",
        "    examples=[\n",
        "        [\"Minato Aqua from hololive with pink and blue twintails in a blue maid outfit\"],\n",
        "    ],\n",
        "    allow_flagging=\"never\"\n",
        ")\n",
        "\n",
        "demo.launch(share=True)"
      ]
    }
  ],
  "metadata": {
    "colab": {
      "provenance": []
    },
    "kernelspec": {
      "display_name": "Python 3",
      "name": "python3"
    },
    "language_info": {
      "codemirror_mode": {
        "name": "ipython",
        "version": 3
      },
      "file_extension": ".py",
      "mimetype": "text/x-python",
      "name": "python",
      "nbconvert_exporter": "python",
      "pygments_lexer": "ipython3",
      "version": "3.10.9"
    }
  },
  "nbformat": 4,
  "nbformat_minor": 0
}
